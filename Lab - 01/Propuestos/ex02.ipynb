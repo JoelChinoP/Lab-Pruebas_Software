{
 "cells": [
  {
   "cell_type": "markdown",
   "id": "fbff1ea6",
   "metadata": {},
   "source": [
    "# Identificador de Números Pares e Impares en una Lista\n",
    "Este programa solicita una cantidad de números, los recibe como entrada\n",
    "y determina si cada uno es par o impar."
   ]
  },
  {
   "cell_type": "code",
   "execution_count": 1,
   "id": "81b42597",
   "metadata": {},
   "outputs": [],
   "source": [
    "# Funcion para determinar si un número es par o impar\n",
    "def es_par(numero):\n",
    "    return \"par\" if numero % 2 == 0 else \"impar\""
   ]
  },
  {
   "cell_type": "code",
   "execution_count": null,
   "id": "249f96f2",
   "metadata": {},
   "outputs": [],
   "source": [
    "# Main\n",
    "def main():\n",
    "    try:\n",
    "        cantidad = int(input(\"¿Cuántos números desea ingresar? \"))\n",
    "        if cantidad <= 0:\n",
    "            return print(\"Por favor, ingrese una cantidad positiva.\")\n",
    "\n",
    "        numeros = [int(input(f\"Ingrese el número {i+1}: \")) for i in range(cantidad)]\n",
    "\n",
    "        print(\"\\nResultados:\")\n",
    "        for i, n in enumerate(numeros, 1):\n",
    "            print(f\"Número {i}: {n} es {es_par(n)}\")\n",
    "    except ValueError:\n",
    "        print(\"Error: Ingrese solamente números enteros.\")"
   ]
  },
  {
   "cell_type": "code",
   "execution_count": null,
   "id": "fb5e27ff",
   "metadata": {},
   "outputs": [
    {
     "name": "stdout",
     "output_type": "stream",
     "text": [
      "\n",
      "--- PRUEBAS PARES E IMPARES ---\n",
      "ID | Descripción      | Número | Esperado | Obtenido | Resultado\n",
      "-----------------------------------------------------------------\n",
      "1  | Par positivo     | 2      | par      | par      | ✓\n",
      "2  | Impar positivo   | 5      | impar    | impar    | ✓\n",
      "3  | Cero             | 0      | par      | par      | ✓\n",
      "4  | Par negativo     | -2     | par      | par      | ✓\n",
      "5  | Impar negativo   | -3     | impar    | impar    | ✓\n",
      "6  | Grande par       | 100000 | par      | par      | ✓\n"
     ]
    }
   ],
   "source": [
    "# Pruebas automatizadas\n",
    "def prueba_identificador_pares_impares():\n",
    "    casos = [\n",
    "        (1, \"Par positivo\", 2, \"par\"),\n",
    "        (2, \"Impar positivo\", 5, \"impar\"),\n",
    "        (3, \"Cero\", 0, \"par\"),\n",
    "        (4, \"Par negativo\", -2, \"par\"),\n",
    "        (5, \"Impar negativo\", -3, \"impar\"),\n",
    "        (6, \"Grande par\", 100000, \"par\")\n",
    "    ]\n",
    "\n",
    "    print(\"\\n--- PRUEBAS PARES E IMPARES ---\")\n",
    "    print(\"ID | Descripción      | Número | Esperado | Obtenido | Resultado\")\n",
    "    print(\"-\" * 65)\n",
    "    for id, desc, num, esperado in casos:\n",
    "        obtenido = es_par(num)\n",
    "        ok = \"✓\" if obtenido == esperado else \"✗\"\n",
    "        print(f\"{id:<2} | {desc:<16} | {num:<6} | {esperado:<8} | {obtenido:<8} | {ok}\")\n",
    "\n",
    "# main() # Ejecutar el programa principal\n",
    "prueba_identificador_pares_impares() # # Ejecutar pruebas"
   ]
  }
 ],
 "metadata": {
  "kernelspec": {
   "display_name": "venv",
   "language": "python",
   "name": "python3"
  },
  "language_info": {
   "codemirror_mode": {
    "name": "ipython",
    "version": 3
   },
   "file_extension": ".py",
   "mimetype": "text/x-python",
   "name": "python",
   "nbconvert_exporter": "python",
   "pygments_lexer": "ipython3",
   "version": "3.13.2"
  }
 },
 "nbformat": 4,
 "nbformat_minor": 5
}
