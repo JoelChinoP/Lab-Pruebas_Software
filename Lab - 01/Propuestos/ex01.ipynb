{
 "cells": [
  {
   "cell_type": "markdown",
   "id": "7b724152",
   "metadata": {},
   "source": [
    "# Calcular el área de un rectángulo\n",
    "Este programa calcula el área de un rectángulo a partir de su base y altura."
   ]
  },
  {
   "cell_type": "code",
   "execution_count": 8,
   "id": "59de3e24",
   "metadata": {},
   "outputs": [],
   "source": [
    "# Calcula el área de un rectángulo.\n",
    "def calcular_area_rectangulo(base, altura):\n",
    "    if not isinstance(base, (int, float)) or not isinstance(altura, (int, float)):\n",
    "        raise ValueError(\"La base y la altura deben ser números\")\n",
    "    if base <= 0 or altura <= 0:\n",
    "        raise ValueError(\"La base y la altura deben ser mayores que 0\")\n",
    "    return base * altura"
   ]
  },
  {
   "cell_type": "code",
   "execution_count": null,
   "id": "2b4fab3c",
   "metadata": {},
   "outputs": [],
   "source": [
    "# Main\n",
    "def main():\n",
    "    try:\n",
    "        # Solicitar y leer las dimensiones del rectángulo\n",
    "        base = float(input(\"Ingrese la base del rectángulo: \"))\n",
    "        altura = float(input(\"Ingrese la altura del rectángulo: \"))\n",
    "        \n",
    "        # Calcular el área\n",
    "        area = calcular_area_rectangulo(base, altura)\n",
    "        \n",
    "        # Mostrar resultados con formato\n",
    "        print(\"\\nResultados:\")\n",
    "        print(f\"Base: {base}\")\n",
    "        print(f\"Altura: {altura}\")\n",
    "        print(f\"Área: {area}\")\n",
    "        \n",
    "    except ValueError:\n",
    "        # Manejar entrada inválida (no numérica)\n",
    "        print(\"Error: Por favor, ingrese valores numéricos válidos.\")"
   ]
  },
  {
   "cell_type": "code",
   "execution_count": 12,
   "id": "cbe8bb94",
   "metadata": {},
   "outputs": [
    {
     "name": "stdout",
     "output_type": "stream",
     "text": [
      "\n",
      "--- PRUEBAS DEL ÁREA DEL RECTÁNGULO ---\n",
      "ID | Descripción         | Base | Altura | Esperado | Obtenido | Resultado\n",
      "---------------------------------------------------------------------------\n",
      "1  | Enteros positivos    | 5     | 4      | 20       | 20       | ✓\n",
      "2  | Decimales positivos  | 3.5   | 2.5    | 8.75     | 8.75     | ✓\n",
      "3  | Entero y decimal     | 6     | 1.5    | 9.0      | 9.0      | ✓\n",
      "4  | Valores grandes      | 1000  | 2000   | 2000000  | 2000000  | ✓\n",
      "5  | Valores pequeños     | 0.01  | 0.02   | 0.0002   | 0.0002   | ✓\n",
      "6  | Base negativa        | -5    | 4      | Error    | Error    | ✗\n",
      "7  | Altura negativa      | 5     | -4     | Error    | Error    | ✗\n",
      "8  | Ambos negativos      | -5    | -4     | Error    | Error    | ✗\n"
     ]
    }
   ],
   "source": [
    "# Pruebas automatizadas\n",
    "def pruebas_area_rectangulo():\n",
    "    \"\"\"\n",
    "    Prueba el cálculo del área del rectángulo con distintos casos.\n",
    "    \"\"\"\n",
    "    casos = [\n",
    "        (1, \"Enteros positivos\", 5, 4, 20),\n",
    "        (2, \"Decimales positivos\", 3.5, 2.5, 8.75),\n",
    "        (3, \"Entero y decimal\", 6, 1.5, 9.0),\n",
    "        (4, \"Valores grandes\", 1000, 2000, 2000000),\n",
    "        (5, \"Valores pequeños\", 0.01, 0.02, 0.0002),\n",
    "        (6, \"Base negativa\", -5, 4, None),  # Caso con base negativa\n",
    "        (7, \"Altura negativa\", 5, -4, None),  # Caso con altura negativa\n",
    "        (8, \"Ambos negativos\", -5, -4, None)  # Caso con ambos negativos\n",
    "    ]\n",
    "\n",
    "    print(\"\\n--- PRUEBAS DEL ÁREA DEL RECTÁNGULO ---\")\n",
    "    print(\"ID | Descripción         | Base | Altura | Esperado | Obtenido | Resultado\")\n",
    "    print(\"-\" * 75)\n",
    "\n",
    "    for id, desc, base, alt, esperado in casos:\n",
    "        try:\n",
    "            obtenido = calcular_area_rectangulo(base, alt)\n",
    "            resultado = \"✓\" if obtenido == esperado else \"✗\"\n",
    "        except ValueError as e:\n",
    "            obtenido = \"Error\"\n",
    "            resultado = \"✗\"  # Si esperamos un error y ocurre, es un éxito\n",
    "        \n",
    "        # Convertir a string para el formateo\n",
    "        esperado_str = \"Error\" if esperado is None else str(esperado)\n",
    "        obtenido_str = str(obtenido)\n",
    "        \n",
    "        print(f\"{id}  | {desc:<20} | {base:<5} | {alt:<6} | {esperado_str:<8} | {obtenido_str:<8} | {resultado}\")\n",
    "\n",
    "# main() # Ejecutar el programa principal\n",
    "pruebas_area_rectangulo() # Ejecutar pruebas"
   ]
  }
 ],
 "metadata": {
  "kernelspec": {
   "display_name": "venv",
   "language": "python",
   "name": "python3"
  },
  "language_info": {
   "codemirror_mode": {
    "name": "ipython",
    "version": 3
   },
   "file_extension": ".py",
   "mimetype": "text/x-python",
   "name": "python",
   "nbconvert_exporter": "python",
   "pygments_lexer": "ipython3",
   "version": "3.13.2"
  }
 },
 "nbformat": 4,
 "nbformat_minor": 5
}
